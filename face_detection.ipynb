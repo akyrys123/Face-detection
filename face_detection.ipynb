{
 "cells": [
  {
   "cell_type": "code",
   "execution_count": 1,
   "id": "f33510e1-6bf2-4634-8649-cb48ad79cf22",
   "metadata": {},
   "outputs": [
    {
     "name": "stdout",
     "output_type": "stream",
     "text": [
      "Requirement already satisfied: cmake in c:\\users\\lenovo\\appdata\\local\\programs\\python\\python311\\lib\\site-packages (3.28.0)\n",
      "Requirement already satisfied: dlib in c:\\users\\lenovo\\appdata\\local\\programs\\python\\python311\\lib\\site-packages (19.24.1)\n",
      "Processing c:\\users\\lenovo\\downloads\\computervisionfinal-main\\dlib-19.24.1-cp311-cp311-win_amd64.whl\n",
      "dlib is already installed with the same version as the provided wheel. Use --force-reinstall to force an installation of the wheel.\n",
      "Requirement already satisfied: face-recognition in c:\\users\\lenovo\\appdata\\local\\programs\\python\\python311\\lib\\site-packages (1.3.0)\n",
      "Requirement already satisfied: face-recognition-models>=0.3.0 in c:\\users\\lenovo\\appdata\\local\\programs\\python\\python311\\lib\\site-packages (from face-recognition) (0.3.0)\n",
      "Requirement already satisfied: Click>=6.0 in c:\\users\\lenovo\\appdata\\local\\programs\\python\\python311\\lib\\site-packages (from face-recognition) (8.1.7)\n",
      "Requirement already satisfied: dlib>=19.7 in c:\\users\\lenovo\\appdata\\local\\programs\\python\\python311\\lib\\site-packages (from face-recognition) (19.24.1)\n",
      "Requirement already satisfied: numpy in c:\\users\\lenovo\\appdata\\local\\programs\\python\\python311\\lib\\site-packages (from face-recognition) (1.26.2)\n",
      "Requirement already satisfied: Pillow in c:\\users\\lenovo\\appdata\\local\\programs\\python\\python311\\lib\\site-packages (from face-recognition) (10.1.0)\n",
      "Requirement already satisfied: colorama in c:\\users\\lenovo\\appdata\\local\\programs\\python\\python311\\lib\\site-packages (from Click>=6.0->face-recognition) (0.4.6)\n",
      "Requirement already satisfied: opencv-python in c:\\users\\lenovo\\appdata\\local\\programs\\python\\python311\\lib\\site-packages (4.8.1.78)\n",
      "Requirement already satisfied: numpy>=1.21.2 in c:\\users\\lenovo\\appdata\\local\\programs\\python\\python311\\lib\\site-packages (from opencv-python) (1.26.2)\n"
     ]
    }
   ],
   "source": [
    "!pip install cmake\n",
    "!pip install dlib\n",
    "!python -m pip install dlib-19.24.1-cp311-cp311-win_amd64.whl\n",
    "!pip install face-recognition\n",
    "!pip install opencv-python"
   ]
  },
  {
   "cell_type": "code",
   "execution_count": 3,
   "id": "76e10565-b202-4094-ab66-a841f83cdf50",
   "metadata": {},
   "outputs": [
    {
     "name": "stdout",
     "output_type": "stream",
     "text": [
      "Result:  [True]\n",
      "hi\n"
     ]
    }
   ],
   "source": [
    "# importing librarys\n",
    "import cv2\n",
    "import numpy as npy\n",
    "import face_recognition as face_rec\n",
    "# function\n",
    "# def resize(img, size) :\n",
    "#     width = int(img.shape[1]*size)\n",
    "#     height = int(img.shape[0] * size)\n",
    "#     dimension = (width, height)\n",
    "#     return cv2.resize(img, dimension, interpolation= cv2.INTER_AREA)\n",
    "\n",
    "\n",
    "# img declaration\n",
    "first = face_rec.load_image_file('images/Akyrys.jpeg')\n",
    "first = cv2.cvtColor(first, cv2.COLOR_BGR2RGB)\n",
    "# first = resize(first, 0.50)\n",
    "second = face_rec.load_image_file('images/Bayansulu.jpeg')\n",
    "# second = resize(second, 0.50)\n",
    "second = cv2.cvtColor(second, cv2.COLOR_BGR2RGB)\n",
    "\n",
    "# # finding face location\n",
    "img_encoding = face_rec.face_encodings(first)[0]\n",
    "img_encoding2 = face_rec.face_encodings(second)[0]\n",
    "\n",
    "result = face_rec.compare_faces([img_encoding], img_encoding2)\n",
    "print(\"Result: \", result)\n",
    "print('hi')\n",
    "cv2.putText(second, f'{result}', (10,30), cv2.FONT_HERSHEY_COMPLEX, 1,(255,255,255), 2 )\n",
    "\n",
    "# plt.imshow(cv2.cvtColor(first, cv2.COLOR_BGR2RGB))\n",
    "# plt.axis('off')\n",
    "# plt.show()\n",
    "\n",
    "# plt.imshow(cv2.cvtColor(second, cv2.COLOR_BGR2RGB))\n",
    "# plt.axis('off')\n",
    "# plt.show()\n",
    "\n",
    "cv2.imshow('main_img', first)\n",
    "cv2.imshow('test_img', second)\n",
    "cv2.waitKey(0)\n",
    "cv2.destroyAllWindows()"
   ]
  },
  {
   "cell_type": "code",
   "execution_count": 3,
   "id": "107b1f13-8741-49e9-bd82-015512d25145",
   "metadata": {},
   "outputs": [
    {
     "name": "stdout",
     "output_type": "stream",
     "text": [
      "Collecting pyttsx3\n",
      "  Using cached pyttsx3-2.90-py3-none-any.whl (39 kB)\n",
      "Collecting comtypes (from pyttsx3)\n",
      "  Using cached comtypes-1.2.0-py2.py3-none-any.whl.metadata (3.7 kB)\n",
      "Collecting pypiwin32 (from pyttsx3)\n",
      "  Using cached pypiwin32-223-py3-none-any.whl (1.7 kB)\n",
      "Requirement already satisfied: pywin32 in c:\\users\\lenovo\\appdata\\local\\programs\\python\\python311\\lib\\site-packages (from pyttsx3) (306)\n",
      "Using cached comtypes-1.2.0-py2.py3-none-any.whl (184 kB)\n",
      "Installing collected packages: comtypes, pypiwin32, pyttsx3\n",
      "Successfully installed comtypes-1.2.0 pypiwin32-223 pyttsx3-2.90\n"
     ]
    }
   ],
   "source": [
    "!pip install pyttsx3"
   ]
  },
  {
   "cell_type": "code",
   "execution_count": null,
   "id": "f7055b12-cd74-4783-8c60-7ded5a4e9da2",
   "metadata": {},
   "outputs": [],
   "source": [
    "import cv2\n",
    "from IPython.display import display, Javascript\n",
    "import numpy as np\n",
    "import face_recognition as face_rec\n",
    "import os\n",
    "from datetime import datetime\n",
    "\n",
    "path = 'images'\n",
    "studentImg = []\n",
    "studentName = []\n",
    "myList = os.listdir(path)\n",
    "\n",
    "for cl in myList:\n",
    "    curimg = cv2.imread(f'{path}/{cl}')\n",
    "    studentImg.append(curimg)\n",
    "    studentName.append(os.path.splitext(cl)[0])\n",
    "\n",
    "def findEncoding(images):\n",
    "    imgEncodings = []\n",
    "    for img in images:\n",
    "        img = cv2.cvtColor(img, cv2.COLOR_BGR2RGB)\n",
    "        encodeimg = face_rec.face_encodings(img)[0]\n",
    "        imgEncodings.append(encodeimg)\n",
    "    return imgEncodings\n",
    "\n",
    "def MarkAttendence(name):\n",
    "    with open('attendence.csv', 'r+') as f:\n",
    "        myDatalist = f.readlines()\n",
    "        nameList = []\n",
    "        for line in myDatalist:\n",
    "            entry = line.split(',')\n",
    "            nameList.append(entry[0])\n",
    "\n",
    "        if name not in nameList:\n",
    "            now = datetime.now()\n",
    "            timestr = now.strftime('%H:%M')\n",
    "            f.writelines(f'\\n{name}, {timestr}')\n",
    "\n",
    "\n",
    "EncodeList = findEncoding(studentImg)\n",
    "\n",
    "vid = cv2.VideoCapture(0)\n",
    "while True:\n",
    "    success, frame = vid.read()\n",
    "\n",
    "    if frame is None:\n",
    "        break\n",
    "\n",
    "    Smaller_frames = cv2.resize(frame, (0, 0), None, 0.25, 0.25)\n",
    "\n",
    "    facesInFrame = face_rec.face_locations(Smaller_frames)\n",
    "    encodeFacesInFrame = face_rec.face_encodings(Smaller_frames, facesInFrame)\n",
    "\n",
    "    for encodeFace, faceloc in zip(encodeFacesInFrame, facesInFrame):\n",
    "        matches = face_rec.compare_faces(EncodeList, encodeFace)\n",
    "        facedis = face_rec.face_distance(EncodeList, encodeFace)\n",
    "        matchIndex = np.argmin(facedis)\n",
    "\n",
    "        if matches[matchIndex]:\n",
    "            name = studentName[matchIndex].upper()\n",
    "            y1, x2, y2, x1 = faceloc\n",
    "            y1, x2, y2, x1 = y1 * 4, x2 * 4, y2 * 4, x1 * 4\n",
    "            cv2.rectangle(frame, (x1, y1), (x2, y2), (0, 255, 0), 3)\n",
    "            cv2.rectangle(frame, (x1, y2 - 25), (x2, y2), (0, 255, 0), cv2.FILLED)\n",
    "            cv2.putText(frame, name, (x1 + 6, y2 - 6), cv2.FONT_HERSHEY_COMPLEX, 1, (255, 255, 255), 2)\n",
    "            MarkAttendence(name)\n",
    "        else:\n",
    "            y1, x2, y2, x1 = faceloc\n",
    "            y1, x2, y2, x1 = y1 * 4, x2 * 4, y2 * 4, x1 * 4\n",
    "            cv2.rectangle(frame, (x1, y1), (x2, y2), (0, 255, 0), 3)\n",
    "            cv2.rectangle(frame, (x1, y2 - 25), (x2, y2), (0, 255, 0), cv2.FILLED)\n",
    "            cv2.putText(frame, \"Unknown\", (x1 + 6, y2 - 6), cv2.FONT_HERSHEY_COMPLEX, 1, (255, 255, 255), 2)\n",
    "            MarkAttendence(\"Unknown\")\n",
    "\n",
    "    cv2.imshow('Frame', frame)\n",
    "    key = cv2.waitKey(1)  # Wait for a key event\n",
    "    if key == 27:  # ASCII code for Esc key\n",
    "        break\n",
    "\n",
    "vid.release()  # Release the camera resources\n",
    "cv2.destroyAllWindows()  # Close all OpenCV windows"
   ]
  },
  {
   "cell_type": "code",
   "execution_count": null,
   "id": "76ce31c3-8ab7-40fa-b829-70fc367819cf",
   "metadata": {},
   "outputs": [],
   "source": []
  }
 ],
 "metadata": {
  "kernelspec": {
   "display_name": "Python 3 (ipykernel)",
   "language": "python",
   "name": "python3"
  },
  "language_info": {
   "codemirror_mode": {
    "name": "ipython",
    "version": 3
   },
   "file_extension": ".py",
   "mimetype": "text/x-python",
   "name": "python",
   "nbconvert_exporter": "python",
   "pygments_lexer": "ipython3",
   "version": "3.11.0"
  }
 },
 "nbformat": 4,
 "nbformat_minor": 5
}
